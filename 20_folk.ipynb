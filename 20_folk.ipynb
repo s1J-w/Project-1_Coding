{
  "nbformat": 4,
  "nbformat_minor": 0,
  "metadata": {
    "colab": {
      "provenance": [],
      "authorship_tag": "ABX9TyPqXHZH5qY8Ce+fEeXjiLoA",
      "include_colab_link": true
    },
    "kernelspec": {
      "name": "python3",
      "display_name": "Python 3"
    },
    "language_info": {
      "name": "python"
    }
  },
  "cells": [
    {
      "cell_type": "markdown",
      "metadata": {
        "id": "view-in-github",
        "colab_type": "text"
      },
      "source": [
        "<a href=\"https://colab.research.google.com/github/s1J-w/Project-1_Coding/blob/main/20_folk.ipynb\" target=\"_parent\"><img src=\"https://colab.research.google.com/assets/colab-badge.svg\" alt=\"Open In Colab\"/></a>"
      ]
    },
    {
      "cell_type": "markdown",
      "source": [
        "# นายศุภากร มีเงิน เลขที่ 20\n",
        "supakorn meengern no 20\n",
        "# 20 พ.ค. 2567\n",
        "print\n",
        "#28 พ.ค. 2567\n",
        "type , ตัวแปร"
      ],
      "metadata": {
        "id": "sSOXFtqx8w80"
      }
    },
    {
      "cell_type": "code",
      "execution_count": null,
      "metadata": {
        "colab": {
          "base_uri": "https://localhost:8080/"
        },
        "id": "wmGfKH487zaK",
        "outputId": "0da96e17-536d-4101-f953-3a7a9bf3215f"
      },
      "outputs": [
        {
          "output_type": "stream",
          "name": "stdout",
          "text": [
            "hello folk\n"
          ]
        }
      ],
      "source": [
        "#20/05/67\n",
        "print(\"hello folk\")"
      ]
    },
    {
      "cell_type": "code",
      "source": [
        "#20/05/67\n",
        "a=12.5\n",
        "print(a)"
      ],
      "metadata": {
        "colab": {
          "base_uri": "https://localhost:8080/"
        },
        "id": "xzn8-oR1DEHs",
        "outputId": "46e437ee-d254-4fec-a85f-6ff52b0a5201"
      },
      "execution_count": null,
      "outputs": [
        {
          "output_type": "stream",
          "name": "stdout",
          "text": [
            "12.5\n"
          ]
        }
      ]
    },
    {
      "cell_type": "code",
      "source": [
        "#28/05/67\n",
        "a = 2\n",
        "b = 1.5\n",
        "c = \" โฟล์ค \"\n",
        "type(c)\n",
        "\n",
        "print(\"ตัวแปรที่ฉันคือ height\")"
      ],
      "metadata": {
        "colab": {
          "base_uri": "https://localhost:8080/"
        },
        "id": "5HDtqeEcZTxi",
        "outputId": "e8720c92-6912-43cd-be6a-efc205de35fa"
      },
      "execution_count": null,
      "outputs": [
        {
          "output_type": "stream",
          "name": "stdout",
          "text": [
            "ตัวแปรที่ฉันคือ height\n"
          ]
        }
      ]
    },
    {
      "cell_type": "code",
      "source": [
        "#28/05/67\n",
        "numeric1 = 5\n",
        "print(numeric1)\n",
        "type(numeric1)"
      ],
      "metadata": {
        "colab": {
          "base_uri": "https://localhost:8080/"
        },
        "id": "D7TeGH7IkOHX",
        "outputId": "18d22434-92ab-4ec8-d1a0-46f2cf22da0d"
      },
      "execution_count": null,
      "outputs": [
        {
          "output_type": "stream",
          "name": "stdout",
          "text": [
            "5\n"
          ]
        },
        {
          "output_type": "execute_result",
          "data": {
            "text/plain": [
              "int"
            ]
          },
          "metadata": {},
          "execution_count": 19
        }
      ]
    }
  ]
}